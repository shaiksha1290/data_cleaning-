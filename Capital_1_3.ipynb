{
 "cells": [
  {
   "cell_type": "markdown",
   "metadata": {
    "collapsed": false
   },
   "source": [
    "###Loading packages"
   ]
  },
  {
   "cell_type": "code",
   "execution_count": 8,
   "metadata": {
    "collapsed": true
   },
   "outputs": [],
   "source": [
    "import pandas as pd\n",
    "import numpy as np\n",
    "import os.path\n",
    "import json\n",
    "import matplotlib.pyplot as plt\n",
    "%matplotlib inline\n",
    "import warnings\n",
    "warnings.filterwarnings('ignore')\n",
    "import difflib\n",
    "import re\n",
    "import seaborn as sns"
   ]
  },
  {
   "cell_type": "code",
   "execution_count": 9,
   "metadata": {
    "collapsed": true
   },
   "outputs": [],
   "source": [
    "class data_import() :\n",
    "    #Constructor to save file paths\n",
    "    def __init__(self, load_data_path , insi_data_path) :\n",
    "        self.loan_path = self.check_file(load_data_path)\n",
    "        self.insi_path = self.check_file(insi_data_path)\n",
    "        \n",
    "    #method to check if path is valid\n",
    "    def check_file(self,path) :\n",
    "        if os.path.isfile(path) :\n",
    "            return path\n",
    "        raise load_data_path + \"does not exist\"\n",
    "    \n",
    "    #Mthod to laod data\n",
    "    def load_data(self) :\n",
    "        self.loan_data = pd.read_csv(self.loan_path)\n",
    "        self.insti_data = pd.read_csv(self.insi_path)\n",
    "    \n",
    "    #to merge loan and insitute data\n",
    "    def merge(self) :\n",
    "         \n",
    "        self.loan_insti_data =  pd.merge(self.loan_data, self.insti_data, how='inner',\n",
    "                                         on = ['Respondent_ID','Agency_Code','As_of_Year'],\n",
    "                                         suffixes=('_loan', '_insti'))\n",
    "        \n",
    "    #method to create Loan  Amount binning\n",
    "    def Create_Loan_Binned(self) :\n",
    "        \n",
    "        self.loan_insti_data[\"Loan_Amount_binned\"] = pd.qcut(self.loan_insti_data['Loan_Amount_000'].values, 4).codes\n",
    "        \n",
    "    def hmda_init(self) :\n",
    "        self.load_data()\n",
    "        self.merge()\n",
    "        self.Create_Loan_Binned()\n",
    "        return(self.loan_insti_data)\n",
    "    \n",
    "    #Method to filter data based on states and conventional_conforming. Save data in JSON format\n",
    "    def hmda_to_json(self, data, states = None, conventional_conforming = None) :\n",
    "        if states != None :\n",
    "            self.filter_states = list(states)\n",
    "        else :\n",
    "            self.filter_states = list(np.unique(data.State))\n",
    "            \n",
    "        if conventional_conforming != None :\n",
    "            self.filter_con_conf = list(conventional_conforming)\n",
    "        else :\n",
    "            self.filter_con_conf = list(np.unique(data.Conventional_Conforming_Flag))\n",
    "        \n",
    "        \n",
    "        self.filtered_data = data[(data['State'].isin(self.filter_states)) & \n",
    "                                  (data['Conventional_Conforming_Flag'].isin(self.filter_con_conf))]\n",
    "        \n",
    "        \n",
    "        self.json = self.filtered_data.reset_index().to_json(orient='index')\n",
    "        \n",
    "        import json\n",
    "        with open('json.txt', 'w') as jsonfile:\n",
    "            json.dump(self.json, jsonfile)\n",
    "    "
   ]
  },
  {
   "cell_type": "code",
   "execution_count": 10,
   "metadata": {
    "collapsed": true
   },
   "outputs": [],
   "source": [
    "loan_path = r\"D:\\Applied\\N start\\dump\\data-challenge-data-master\\data\\2012_to_2014_loans_data.csv\"\n",
    "insi_path = r\"D:\\Applied\\N start\\dump\\data-challenge-data-master\\data\\2012_to_2014_institutions_data.csv\""
   ]
  },
  {
   "cell_type": "code",
   "execution_count": 11,
   "metadata": {
    "collapsed": true
   },
   "outputs": [],
   "source": [
    "obj = data_import(loan_path,insi_path)"
   ]
  },
  {
   "cell_type": "code",
   "execution_count": 30,
   "metadata": {
    "collapsed": false
   },
   "outputs": [],
   "source": [
    "expanded_data = obj.hmda_init()"
   ]
  },
  {
   "cell_type": "code",
   "execution_count": 31,
   "metadata": {
    "collapsed": false
   },
   "outputs": [
    {
     "data": {
      "text/plain": [
       "0    308541\n",
       "3    305674\n",
       "1    305611\n",
       "2    303028\n",
       "Name: Loan_Amount_binned, dtype: int64"
      ]
     },
     "execution_count": 31,
     "metadata": {},
     "output_type": "execute_result"
    }
   ],
   "source": [
    "expanded_data[\"Loan_Amount_binned\"].value_counts()"
   ]
  },
  {
   "cell_type": "code",
   "execution_count": 7,
   "metadata": {
    "collapsed": false
   },
   "outputs": [],
   "source": [
    "obj.hmda_to_json(expanded_data,states = [\"VA\"])"
   ]
  },
  {
   "cell_type": "markdown",
   "metadata": {},
   "source": [
    "## Handling duplicates"
   ]
  },
  {
   "cell_type": "code",
   "execution_count": 14,
   "metadata": {
    "collapsed": false
   },
   "outputs": [],
   "source": [
    "#Get duplicate rows from data\n",
    "dup = expanded_data[expanded_data.duplicated(keep=False)]"
   ]
  },
  {
   "cell_type": "code",
   "execution_count": 15,
   "metadata": {
    "collapsed": false
   },
   "outputs": [
    {
     "data": {
      "text/plain": [
       "(8, 34)"
      ]
     },
     "execution_count": 15,
     "metadata": {},
     "output_type": "execute_result"
    }
   ],
   "source": [
    "dup.shape"
   ]
  },
  {
   "cell_type": "code",
   "execution_count": 32,
   "metadata": {
    "collapsed": true
   },
   "outputs": [],
   "source": [
    "#Remove duplicates\n",
    "expanded_data.drop_duplicates(inplace = True)"
   ]
  },
  {
   "cell_type": "markdown",
   "metadata": {
    "collapsed": true
   },
   "source": [
    "###Quality check on Loan_Amount_000"
   ]
  },
  {
   "cell_type": "code",
   "execution_count": 17,
   "metadata": {
    "collapsed": false
   },
   "outputs": [
    {
     "data": {
      "text/plain": [
       "0"
      ]
     },
     "execution_count": 17,
     "metadata": {},
     "output_type": "execute_result"
    }
   ],
   "source": [
    "#Check for missing values\n",
    "sum(expanded_data[\"Loan_Amount_000\"].isnull())"
   ]
  },
  {
   "cell_type": "code",
   "execution_count": 18,
   "metadata": {
    "collapsed": false
   },
   "outputs": [
    {
     "data": {
      "image/png": "[encoded data removed]",
      "text/plain": [
       "<matplotlib.figure.Figure at 0x160c6400>"
      ]
     },
     "metadata": {},
     "output_type": "display_data"
    }
   ],
   "source": [
    "#Distribution of Loan_Amount\n",
    "loan_amount = expanded_data[\"Loan_Amount_000\"]\n",
    "#Plot the loan amount data\n",
    "plt.hist(loan_amount, 150, range=[1000, 4100], facecolor='gray', align='mid')\n",
    "plt.show()"
   ]
  },
  {
   "cell_type": "markdown",
   "metadata": {},
   "source": [
    "## Descriptive Statistics"
   ]
  },
  {
   "cell_type": "code",
   "execution_count": 19,
   "metadata": {
    "collapsed": false
   },
   "outputs": [
    {
     "name": "stdout",
     "output_type": "stream",
     "text": [
      "mean is 287.09\n"
     ]
    }
   ],
   "source": [
    "#mean of \"loan_amount\" \n",
    "print \"mean is %.2f\"%(loan_amount.mean())"
   ]
  },
  {
   "cell_type": "code",
   "execution_count": 20,
   "metadata": {
    "collapsed": false
   },
   "outputs": [
    {
     "name": "stdout",
     "output_type": "stream",
     "text": [
      "median is 230.00\n"
     ]
    }
   ],
   "source": [
    "#median of \"loan_amount\"\n",
    "print \"median is %.2f\"%loan_amount.median()"
   ]
  },
  {
   "cell_type": "code",
   "execution_count": 21,
   "metadata": {
    "collapsed": false
   },
   "outputs": [
    {
     "name": "stdout",
     "output_type": "stream",
     "text": [
      "Standard Deviation is 1002.15\n"
     ]
    }
   ],
   "source": [
    "#Standard Deviation \n",
    "print \"Standard Deviation is %.2f\"%loan_amount.std()"
   ]
  },
  {
   "cell_type": "code",
   "execution_count": 22,
   "metadata": {
    "collapsed": false
   },
   "outputs": [
    {
     "name": "stdout",
     "output_type": "stream",
     "text": [
      "Range of loan_amount is (1,99625)\n"
     ]
    }
   ],
   "source": [
    "#Range of loan_amount \n",
    "print \"Range of loan_amount is (\" +str(loan_amount.min())+ \",\"+str(loan_amount.max())+ \")\""
   ]
  },
  {
   "cell_type": "markdown",
   "metadata": {},
   "source": [
    "## Handling Outliers "
   ]
  },
  {
   "cell_type": "code",
   "execution_count": 33,
   "metadata": {
    "collapsed": true
   },
   "outputs": [],
   "source": [
    "#Compute 3 standard deviation of Loan AMount\n",
    "sd_3 = 3*expanded_data.Loan_Amount_000.std()\n",
    "\n",
    "#Remove outliers\n",
    "expanded_data = expanded_data[(np.abs(expanded_data.Loan_Amount_000-expanded_data.Loan_Amount_000.mean())<=(sd_3))]"
   ]
  },
  {
   "cell_type": "code",
   "execution_count": 34,
   "metadata": {
    "collapsed": false
   },
   "outputs": [],
   "source": [
    "#Create a new column Applicant_Income_binned by binning Applicant_Income_000 into 4 quantiles\n",
    "expanded_data['Applicant_Income_000'] = pd.to_numeric(expanded_data['Applicant_Income_000'] , errors='coerce')\n",
    "expanded_data[\"Applicant_Income_binned\"] = pd.qcut(expanded_data['Applicant_Income_000'].values, 4).codes"
   ]
  },
  {
   "cell_type": "markdown",
   "metadata": {},
   "source": [
    "### Loan Amount is plotted for each of the bin of Application Income bin. For new data see which bin of Applicant Income bin it falls in and check the Loan amount to see if it is an outlier."
   ]
  },
  {
   "cell_type": "code",
   "execution_count": 35,
   "metadata": {
    "collapsed": false
   },
   "outputs": [
    {
     "data": {
      "text/plain": [
       "<matplotlib.axes._subplots.AxesSubplot at 0x1176ada0>"
      ]
     },
     "execution_count": 35,
     "metadata": {},
     "output_type": "execute_result"
    },
    {
     "data": {
      "image/png": "[encoded data removed]",
      "text/plain": [
       "<matplotlib.figure.Figure at 0x160ee400>"
      ]
     },
     "metadata": {},
     "output_type": "display_data"
    }
   ],
   "source": [
    "sns.boxplot(expanded_data['Loan_Amount_000'],groupby = expanded_data['Applicant_Income_binned'])"
   ]
  },
  {
   "cell_type": "markdown",
   "metadata": {},
   "source": [
    "###Quality check on Respondent_Name_TS"
   ]
  },
  {
   "cell_type": "code",
   "execution_count": 36,
   "metadata": {
    "collapsed": false
   },
   "outputs": [
    {
     "name": "stdout",
     "output_type": "stream",
     "text": [
      "There are 1576 banks in dataset\n"
     ]
    }
   ],
   "source": [
    "print \"There are \"+str(len(np.unique(expanded_data.Respondent_Name_TS)))+ \" banks in dataset\""
   ]
  },
  {
   "cell_type": "code",
   "execution_count": 37,
   "metadata": {
    "collapsed": true
   },
   "outputs": [],
   "source": [
    "#Get bank names length\n",
    "expanded_data[\"Respondent_Name_len\"] = expanded_data.Respondent_Name_TS.apply(lambda x : len(x))"
   ]
  },
  {
   "cell_type": "code",
   "execution_count": 38,
   "metadata": {
    "collapsed": false
   },
   "outputs": [
    {
     "name": "stdout",
     "output_type": "stream",
     "text": [
      "bank name lenght has range of (3,30)\n"
     ]
    }
   ],
   "source": [
    "bank_name_len = expanded_data[\"Respondent_Name_len\"]\n",
    "print \"bank name lenght has range of (\" + str(min(bank_name_len))+\",\"+str(max(bank_name_len))+\")\""
   ]
  },
  {
   "cell_type": "code",
   "execution_count": 39,
   "metadata": {
    "collapsed": false
   },
   "outputs": [
    {
     "data": {
      "text/plain": [
       "array(['CNB', 'EVB'], dtype=object)"
      ]
     },
     "execution_count": 39,
     "metadata": {},
     "output_type": "execute_result"
    }
   ],
   "source": [
    "np.unique(expanded_data[expanded_data[\"Respondent_Name_len\"] == 3][\"Respondent_Name_TS\"])"
   ]
  },
  {
   "cell_type": "code",
   "execution_count": 40,
   "metadata": {
    "collapsed": true
   },
   "outputs": [
    {
     "data": {
      "text/plain": [
       "array(['167TH TFR FEDERAL CREDIT UNION', '1ST 2ND MORTGAGE CO. OF NJ INC',\n",
       "       'ABSOLUTE HOME MORTGAGE CORPORA', 'ADVANCIAL FEDERAL CREDIT UNION',\n",
       "       'AEROSPACE FEDERAL CREDIT UNION', 'AFFINITY LENDING SOLUTIONS, LL',\n",
       "       'AGRICULTURE FEDERAL CREDIT UNI', \"AMERICA'S CHOICE HOME LOANS LP\",\n",
       "       'AMERICAN EQUITY MORTGAGE, INC.', 'AMERICAN FINANCIAL NETWORK INC',\n",
       "       'AMERICAN FINANCING CORPORATION', 'AMERICAN HERITAGE NATIONAL BAN',\n",
       "       'AMERICAN INTERNET MORTGAGE INC', 'AMERICAN INTERNET MORTGAGE,INC',\n",
       "       'AMERICAN MORTGAGE SERVICE COMP', 'AMERICAN NATIONAL BANK & TRUST',\n",
       "       'AMERICAN NEIGHBORHOOD MORTGAGE', 'AMERICAN SECURITY MORTGAGE COR',\n",
       "       'AMERICAN SOUTHWEST MORTGAGE CO', 'AMERISAVE MORTGAGE CORPORATION',\n",
       "       'ASSOCIATED MORTGAGE BANKERS IN', 'ASSOCIATED MORTGAGE BANKERS, I',\n",
       "       'ASTORIA FEDERAL MORTGAGE CORP.', 'ASTORIA FEDERAL SAVINGS & LOAN',\n",
       "       'ATLANTIC BAY MORTGAGE GROUPLLC', 'ATLANTIC PACIFIC MORTGAGE CORP',\n",
       "       'BALTIMORE COUNTY EMPLOYEES FCU', 'BAY CAPITAL MORTGAGE CORPORATI',\n",
       "       'BAY-VANGUARD FEDERAL SAVINGS B', 'BAYSHORE MORTGAGE FUNDING, LLC',\n",
       "       'BENCHMARK FEDERAL CREDIT UNION', 'BLACK HILLS FEDERAL CREDIT UNI',\n",
       "       'BRIDGEVIEW BANK MORTGAGE COMPA', 'CARDINAL FINANCIAL COMPANY, LP',\n",
       "       'CEDAR POINT FEDERAL CREDIT UNI', 'CHERRY CREEK MORTGAGE CO., INC',\n",
       "       'CHESTERFIELD FEDERAL CREDIT UN', 'CHRISTIAN COMMUNITY CREDIT UNI',\n",
       "       'CHURCHILL MORTGAGE CORPORATION', 'CLEARVIEW FEDERAL CREDIT UNION',\n",
       "       'CMCO MORTGAGE, LLC DBA HOME LE', 'CMNTY BK OAK PARK RIVER FOREST',\n",
       "       'CONGRESSIONAL FEDERAL CREDIT U', 'CORNERSTONE FEDERAL CREDIT UNI',\n",
       "       'CORNERSTONE HOME LENDING, INC.', 'CORNERSTONE NATIONAL BANK & TR',\n",
       "       'DB PRIVATE WEALTH MORTGAGE LTD', 'DB PRIVATE WEATH MORTGAGE LTD.',\n",
       "       'DEPARTMENT OF THE INTERIOR FCU', 'DOOLIN SECURITY SAVINGS BANK F',\n",
       "       'EAGLE BANK AND TRUST COMPANY O', 'EAGLE ONE FEDERAL CREDIT UNION',\n",
       "       'EDUCATIONAL SYSTEMS FEDERAL CU', 'EMIGRANT MORTGAGE COMPANY, INC',\n",
       "       'ENERGY ONE FEDERAL CREDIT UNIO', 'ENTRUST FINANCIAL CREDIT UNION',\n",
       "       'FAIRWAY INDEPENDENT MORT. CORP', 'FARMERS & MRCH BK OF CRAIG CTY',\n",
       "       'FEDCHOICE FEDERAL CREDIT UNION', 'FIELDPOINT PRIVATE BANK & TRUS',\n",
       "       'FINANCIAL RESOURCES FEDERAL CU', 'FINEMARK NATIONAL BANK & TRUST',\n",
       "       'FIRST CHOICE AMERICA COMMUNITY', 'FIRST CHOICE LOAN SERVICES INC',\n",
       "       'FIRST COMMUNITY BANK OF MERCER', 'FIRST EAGLE FEDERAL CREDIT UNI',\n",
       "       'FIRST FEDERAL SAVINGS AND LOAN', 'FIRST FINANCIAL SERVICES, INC.',\n",
       "       'FIRST INTERNET BANK OF INDIANA', 'FIRST LIBERTY FINANCIAL MORTGA',\n",
       "       'FIRST NATIONAL BANK OF AMERICA', 'FIRST NATIONAL BANK OF STLOUIS',\n",
       "       'FIRST NEW ENGLAND FEDERAL C.U.', 'FIRST PEOPLES COMMUNITY FEDERA',\n",
       "       'FIRST SAVINGS BANK OF PERKASIE', 'FIRST SAVINGS MORTGAGE CORPORA',\n",
       "       'FIRST STATE BANK OF ST CHARLES', 'FIRST UNITED BANK AND TRUST CO',\n",
       "       'FIRST-CITIZENS BANK & TRUST CO', 'FOUNDATION MORTGAGE CORPORATIO',\n",
       "       'FRANKLIN COMMUNITY BANK, N. A.', 'FRANKLIN FIRST FINANCIAL, LTD.',\n",
       "       'FRANKLIN MINT FEDERAL CREDIT U', 'FREEDOM FIRST FEDERAL CREDIT U',\n",
       "       'GENERAL ELECTRIC EMP FED CREDI', 'GENERAL ELECTRIC EMPLOYEES FCU',\n",
       "       'GILPIN FINANCIAL SERVICES, INC', 'GLEN BURNIE MUTUAL SAVINGS BNK',\n",
       "       'GLEN BURNIE MUTUAL SAVNGS BANK', 'GUARANTEED HOME MORTGAGE COMPA',\n",
       "       'HAMILTON NATIONAL MORTGAGE COM', 'HEALTHCARE ASSOC. CREDIT UNION',\n",
       "       'HIGHLANDS RESIDENTIAL MORTGAGE', 'HOMEAMERICAN MORTGAGE CORPORAT',\n",
       "       'HOMEBRIDGE FINANCIAL SERVICES,', 'HOMEOWNERS MORTGAGE OF AMERICA',\n",
       "       'HOMESTAR BANK & FINANCIAL SVCS', 'HUNTINGTON FEDERAL SAVINGS BAN',\n",
       "       'IBM SOUTHEAST EMP CREDIT UNION', 'INFINITY HOME MORTGAGE CO. INC',\n",
       "       'INTEGRATED FINANCIAL GROUP INC', 'INTEGRITY FIRST FINANCIAL GROU',\n",
       "       'INTGRITY FIRST FINANCIAL GROUP', 'ISERVE RESIDENTIAL LENDING LLC',\n",
       "       'JOHNS HOPKINS FEDERAL CREDIT U', 'JOHNSON CITY FEDERAL CREDIT UN',\n",
       "       'K. HOVNANIAN AMERICAN MORTGAGE', 'KANSAS STATE BANK OF MANHATTAN',\n",
       "       'LAFAYETTE FEDERAL CREDIT UNION', 'LEADERONE FINANCIAL CORP ISAOA',\n",
       "       'LEADERONE FINANCIAL CORPORATIO', 'LIBERTY BANK AND TRUST COMPANY',\n",
       "       'LIBERTY HOME EQUITY SOLUTIONS,', 'MARKET USA FEDERAL CREDIT UNIO',\n",
       "       'MASSMUTUAL FEDERAL CREDIT UNIO', 'MCGLONE MORTGAGE COMPANY, INC.',\n",
       "       'MCGRAW-HILL FEDERAL CREDIT UNI', 'MEADOWBROOK FINANCIAL MORTGAGE',\n",
       "       'MICHIGAN MUTUAL, INC. D/B/A FI', 'MID-ATLANTIC FEDERAL CREDIT UN',\n",
       "       'MILITARY FAMILY HOME LOANS, LL', 'MILLENNIUM FINANCIAL GROUP, IN',\n",
       "       'MORGAN STANLEY PRIVATE BANK NA', 'MORGAN STANLEY PRIVATE BANK, N',\n",
       "       'MORTGAGE CAPITAL PARTNERS, INC', 'MORTGAGE SOLUTIONS OF COLORADO',\n",
       "       'MUNICIPAL EMPLOYEES CREDIT UNI', 'NATIONAL BANK OF BLACKSBURG T/',\n",
       "       'NATIONAL BANK T/A NATIONAL BAN', 'NATIONAL COOPERATIVE BANK N.A.',\n",
       "       'NEWPORT NEWS MUNICIPAL EMPL CU', 'NORTHCOUNTRY FEDERAL CREDIT UN',\n",
       "       'NORTHROP GRUMMAN FEDERAL CREDI', 'NORTHWEST FEDERAL CREDIT UNION',\n",
       "       'NOTRE DAME FEDERAL CREDIT UNIO', 'NUCOMPASS MORTGAGE SERVICES LL',\n",
       "       'OHIO VALLEY COMMUNITY CREDIT U', 'PARAMOUNT RESIDENTIAL MORTGAGE',\n",
       "       'PARK VIEW FEDERAL CREDIT UNION', 'PARTNERS FINANCIAL FEDERAL C U',\n",
       "       'PENN EAST FEDERAL CREDIT UNION', 'PEOPLES BANK, NATIONAL ASSOCIA',\n",
       "       'PHILADELPHIA FEDERAL CREDIT UN', 'PHILADELPHIA MORTGAGE ADVISORS',\n",
       "       'PHOENIXVILLE FEDERAL BANK & TR', \"PRINCE GEORGE'S FEDERAL SAVING\",\n",
       "       'PRINCETON FEDERAL CREDIT UNION', 'PROPONENT FEDERAL CREDIT UNION',\n",
       "       'RATE ONE INC., THE MORTGAGE PE', 'RESIDENTIAL FINANCE CORPORATIO',\n",
       "       'RESIDENTIAL HOME FUNDING CORP.', 'REVERSE MORTGAGE SOLUTIONS, IN',\n",
       "       'RICHMOND POSTAL CREDIT UNION I', 'RIVERFRONT FEDERAL CREDIT UNIO',\n",
       "       'SALEM VAMC FEDERAL CREDIT UNIO', 'SECURITYNATIONAL MORTGAGE COMP',\n",
       "       'SHAMROCK FINANCIAL CORPORATION', 'SHARONVIEW FEDERAL CREDIT UNIO',\n",
       "       'SIERRA PACIFIC MORTGAGE CO INC', 'SONABANK, A STATE CHARTERED BA',\n",
       "       'SOUTH CENTRAL ILLINOIS MTG. LL', 'SOUTHERN BANK AND TRUST COMPAN',\n",
       "       'SOUTHERN COMMUNITY BANK AND TR', 'SOUTHWEST AIRLINES FEDERAL CRE',\n",
       "       'STONEGATE MORTGAGE CORPORATION', 'SUN WEST MORTGAGE COMPANY, INC',\n",
       "       'SUSSEX COUNTY FEDERAL CREDIT U', 'TEXAS TECH FEDERAL CREDIT UNIO',\n",
       "       'THE BANK OF SOUTHSIDE VIRGINIA', 'THE FARMERS AND MECHANICS BANK',\n",
       "       'THE FARMERS BANK OF APPOMATTOX', 'THE FARMERS NATIONAL BANK OF E',\n",
       "       'THE FIDELITY DEPOSIT & DISCOUN', 'THE FIRST NATIONAL BANK OF WYO',\n",
       "       'THE HOME SAVINGS AND LOAN COMP', 'THE PEOPLES NATIONAL BANK-MT P',\n",
       "       'THE UNITED FEDERAL CREDIT UNIO', 'THIRD FEDERAL SAVINGS AND LOAN',\n",
       "       'TIB-THE INDEPENDENT BANKERSBAN', 'TOWNE MORTGAGE OF THE CAROLINA',\n",
       "       'TREASURY DEPARTMENT FEDERAL CU', 'TRULIANT FEDERAL CREDIT  UNION',\n",
       "       'TRUMARK FINANCIAL CREDIT UNION', 'UNITED NORTHERN MORTGAGE BANKE',\n",
       "       'UNITED SE FEDERAL CREDIT UNION', 'UNITED SHORE FINANCIAL SERVICE',\n",
       "       'UNITED SOUTHWEST MORTGAGE CORP', 'UNIVERSAL AMERICAN MTG. CO.LLC',\n",
       "       'UNIVERSAL FEDERAL CREDIT UNION', 'UNIVERSAL MORTGAGE AND FINANCE',\n",
       "       'UNIVERSITY OF IOWA COMMUNITY C', 'URBAN FINANCIAL OF AMERICA, LL',\n",
       "       'URW COMMUNITY FEDERAL CREDIT U', 'USALLIANCE FEDERAL CREDIT UNIO',\n",
       "       'WASHINGTON COUNTY TEACHERS FCU', 'WEST VIRGINIA CENTRAL CREDIT U',\n",
       "       'WEST VIRGINIA FEDERAL CREDIT U', 'XCEED FINANCIAL FEDERAL CREDIT'], dtype=object)"
      ]
     },
     "execution_count": 40,
     "metadata": {},
     "output_type": "execute_result"
    }
   ],
   "source": [
    "np.unique(expanded_data[expanded_data[\"Respondent_Name_len\"] == 30][\"Respondent_Name_TS\"])"
   ]
  },
  {
   "cell_type": "markdown",
   "metadata": {},
   "source": [
    "### some respondents like \"ABSOLUTE HOME MORTGAGE CORPORA\"  and \"BLACK HILLS FEDERAL CREDIT UNI\" were unable to provide complete name due to restriction of lenght of column i.e 30. We can increase the column lenght to overcome this issue. "
   ]
  },
  {
   "cell_type": "code",
   "execution_count": 71,
   "metadata": {
    "collapsed": false
   },
   "outputs": [],
   "source": [
    "#difflib can be used to check the closest match of a given Respondent name from available list of Respondents\n",
    "#Output can be saved in csv and decision can be made if we need to replace the respondent name with suggested name\n",
    "Respo_name = set(np.unique(expanded_data[\"Respondent_Name_TS\"]))\n",
    "s = expanded_data[\"Respondent_Name_TS\"].apply(lambda x : difflib.get_close_matches(x,list(Respo_name- {x})))"
   ]
  },
  {
   "cell_type": "code",
   "execution_count": 41,
   "metadata": {
    "collapsed": true
   },
   "outputs": [],
   "source": [
    "#Regular expression can be applied to replace \". ,\" and extra spaces between words\n",
    "expanded_data[\"Respondent_Name_TS\"] = expanded_data[\"Respondent_Name_TS\"].map(lambda x : re.sub('[.,]','',x))\n",
    "expanded_data[\"Respondent_Name_TS\"] = expanded_data[\"Respondent_Name_TS\"].map(lambda x : re.sub(' +',' ',x))"
   ]
  },
  {
   "cell_type": "code",
   "execution_count": 42,
   "metadata": {
    "collapsed": false
   },
   "outputs": [
    {
     "data": {
      "text/plain": [
       "1507"
      ]
     },
     "execution_count": 42,
     "metadata": {},
     "output_type": "execute_result"
    }
   ],
   "source": [
    "len(np.unique(expanded_data[\"Respondent_Name_TS\"]))"
   ]
  },
  {
   "cell_type": "markdown",
   "metadata": {},
   "source": [
    "### Applicant_Income_00 can be monitored, as this plays important role in decision of loan sanction. Also there are highchances that applicants may provide false info . Hence quality check would be really handly on this column"
   ]
  },
  {
   "cell_type": "code",
   "execution_count": 43,
   "metadata": {
    "collapsed": false
   },
   "outputs": [],
   "source": [
    "#Missing value\n",
    "Appli_Income_miss = expanded_data[expanded_data[\"Applicant_Income_000\"].isnull()]"
   ]
  },
  {
   "cell_type": "code",
   "execution_count": 44,
   "metadata": {
    "collapsed": false
   },
   "outputs": [
    {
     "name": "stdout",
     "output_type": "stream",
     "text": [
      "Applicant_Income_000 column has 108240 missing values\n"
     ]
    }
   ],
   "source": [
    "print \"Applicant_Income_000 column has \" + str(Appli_Income_miss.shape[0])+ \" missing values\""
   ]
  },
  {
   "cell_type": "markdown",
   "metadata": {},
   "source": [
    "###Applicant Income has alot of missing values. Maybe people here are refusing to disclose their income. People with very high income or with very low income are generally reluctant to disclose their income. We are imputing missing values with median. RandomForest Imputer can also be used to immpute the missing value "
   ]
  },
  {
   "cell_type": "code",
   "execution_count": 45,
   "metadata": {
    "collapsed": true
   },
   "outputs": [],
   "source": [
    "expanded_data[\"Applicant_Income_000\"].fillna(expanded_data[\"Applicant_Income_000\"].median(), inplace=True)"
   ]
  },
  {
   "cell_type": "code",
   "execution_count": 46,
   "metadata": {
    "collapsed": false
   },
   "outputs": [
    {
     "data": {
      "text/plain": [
       "0"
      ]
     },
     "execution_count": 46,
     "metadata": {},
     "output_type": "execute_result"
    }
   ],
   "source": [
    "sum(expanded_data[\"Applicant_Income_000\"].isnull())"
   ]
  },
  {
   "cell_type": "markdown",
   "metadata": {},
   "source": [
    "### Relationship between  Applicant_Income_000 and Loan_Amount_000"
   ]
  },
  {
   "cell_type": "code",
   "execution_count": 47,
   "metadata": {
    "collapsed": false
   },
   "outputs": [
    {
     "data": {
      "text/plain": [
       "<seaborn.axisgrid.FacetGrid at 0x1173fc18>"
      ]
     },
     "execution_count": 47,
     "metadata": {},
     "output_type": "execute_result"
    },
    {
     "data": {
      "image/png": "[encoded data removed]",
      "text/plain": [
       "<matplotlib.figure.Figure at 0xda4d6a0>"
      ]
     },
     "metadata": {},
     "output_type": "display_data"
    }
   ],
   "source": [
    "g = sns.lmplot('Applicant_Income_000', 'Loan_Amount_000', \n",
    "           data=expanded_data, \n",
    "           fit_reg=False)\n",
    "\n",
    "g.set(ylim=(0, 10000) ,xlim=(0, None) )"
   ]
  },
  {
   "cell_type": "code",
   "execution_count": null,
   "metadata": {
    "collapsed": true
   },
   "outputs": [],
   "source": []
  }
 ],
 "metadata": {
  "kernelspec": {
   "display_name": "Python 2",
   "language": "python",
   "name": "python2"
  },
  "language_info": {
   "codemirror_mode": {
    "name": "ipython",
    "version": 2
   },
   "file_extension": ".py",
   "mimetype": "text/x-python",
   "name": "python",
   "nbconvert_exporter": "python",
   "pygments_lexer": "ipython2",
   "version": "2.7.12"
  }
 },
 "nbformat": 4,
 "nbformat_minor": 0
}
